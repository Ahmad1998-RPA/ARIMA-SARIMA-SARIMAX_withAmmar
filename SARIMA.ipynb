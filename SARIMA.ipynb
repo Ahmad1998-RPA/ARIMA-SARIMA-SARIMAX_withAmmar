{
 "cells": [
  {
   "cell_type": "markdown",
   "metadata": {},
   "source": [
    "# Time Series Forcasting of Stock Market Data with ARIMA in python\n",
    "\n",
    "Author: Ahmad Mubarak<br>\n",
    "[<img src=\"https://img.icons8.com/color/48/000000/linkedin.png\" width=\"20\" height=\"20\">](https://www.linkedin.com/in/ahmad-mubarak-19861a177)\n",
    "[<img src=\"https://img.icons8.com/fluent/48/000000/github.png\" width=\"20\" height=\"20\">](https://github.com/Ahmad1998-RPA)\n",
    "[<img src=\"https://img.icons8.com/color/48/000000/youtube-play.png\" width=\"20\" height=\"20\">](http://www.youtube.com/@ahmaddhanesar)\n",
    "[<img src=\"https://img.icons8.com/color/48/000000/twitter.png\" width=\"20\" height=\"20\">](https://x.com/ahmad_mubarak01)"
   ]
  },
  {
   "cell_type": "code",
   "execution_count": null,
   "metadata": {},
   "outputs": [],
   "source": []
  }
 ],
 "metadata": {
  "language_info": {
   "name": "python"
  }
 },
 "nbformat": 4,
 "nbformat_minor": 2
}
